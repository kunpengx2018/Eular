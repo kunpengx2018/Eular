{
 "cells": [
  {
   "cell_type": "markdown",
   "metadata": {},
   "source": [
    "# 20.Factorial Sum"
   ]
  },
  {
   "cell_type": "code",
   "execution_count": 2,
   "metadata": {},
   "outputs": [
    {
     "name": "stdout",
     "output_type": "stream",
     "text": [
      "648\n"
     ]
    }
   ],
   "source": [
    "f = 1\n",
    "for i in range(2,101):\n",
    "    f *= i\n",
    "    \n",
    "sum_ = 0\n",
    "while f > 0:\n",
    "    last_digit = f % 10\n",
    "    sum_ += last_digit\n",
    "    f = f // 10 \n",
    "#   f // = 10\n",
    "print(sum_)"
   ]
  },
  {
   "cell_type": "code",
   "execution_count": 5,
   "metadata": {},
   "outputs": [
    {
     "data": {
      "text/plain": [
       "[3, 1, 4, 1, 5, 9, 2, 6]"
      ]
     },
     "execution_count": 5,
     "metadata": {},
     "output_type": "execute_result"
    }
   ],
   "source": [
    "# list Comprehension Example\n",
    "\n",
    "[n*n for n in range(1,11)]\n",
    "[int(c) for c in '31415926']"
   ]
  },
  {
   "cell_type": "code",
   "execution_count": 6,
   "metadata": {},
   "outputs": [
    {
     "name": "stdout",
     "output_type": "stream",
     "text": [
      "648\n"
     ]
    }
   ],
   "source": [
    "# list Comprehension Version\n",
    "f = 1\n",
    "for i in range(2,101):\n",
    "    f *= i\n",
    "    \n",
    "digits = [int(d) for d in str(f)]\n",
    "sum_ = sum(digits)\n",
    "print(sum_)"
   ]
  },
  {
   "cell_type": "code",
   "execution_count": 8,
   "metadata": {},
   "outputs": [
    {
     "name": "stdout",
     "output_type": "stream",
     "text": [
      "[3, 1, 4, 1, 5, 9, 2, 6] [3, 1, 4, 1, 5, 9, 2, 6]\n"
     ]
    }
   ],
   "source": [
    "#What if you got . in a string and you want to int the rest of digits?\n",
    "#use Google and see stakeoverflow!\n",
    "\n",
    "a = [int(c) for c in '31415926' if c != '.']\n",
    "#or\n",
    "b = [int(c) for c in '31415926' if c.isdigit()]\n",
    "\n",
    "print(a,b)"
   ]
  },
  {
   "cell_type": "code",
   "execution_count": 2,
   "metadata": {},
   "outputs": [
    {
     "name": "stdout",
     "output_type": "stream",
     "text": [
      "933262154439441526816992388562667004907159682643816214685929638952175999932299156089414639761565182862536979208272237582511852109168640000000000000\n",
      "648\n"
     ]
    }
   ],
   "source": [
    "# Reduce 0s first\n",
    "def dropzeros(n):\n",
    "        while n % 10 == 0:\n",
    "            n = n//10\n",
    "        return n\n",
    "    \n",
    "b = 1\n",
    "for i in range(1,101):\n",
    "    b *= dropzeros(i)\n",
    "print(b)\n",
    "\n",
    "sum_ = sum([int(c) for c in str(b)])\n",
    "print(sum_)"
   ]
  },
  {
   "cell_type": "code",
   "execution_count": null,
   "metadata": {},
   "outputs": [],
   "source": [
    "######Try to work on that!\n",
    "import functools\n",
    "\n",
    "def mysum(list_)\n",
    "    return functools.reduce(lamda x,y:x+y list_)"
   ]
  }
 ],
 "metadata": {
  "kernelspec": {
   "display_name": "Python 3",
   "language": "python",
   "name": "python3"
  },
  "language_info": {
   "codemirror_mode": {
    "name": "ipython",
    "version": 3
   },
   "file_extension": ".py",
   "mimetype": "text/x-python",
   "name": "python",
   "nbconvert_exporter": "python",
   "pygments_lexer": "ipython3",
   "version": "3.6.5"
  }
 },
 "nbformat": 4,
 "nbformat_minor": 2
}
